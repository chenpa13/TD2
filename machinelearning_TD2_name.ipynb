{
  "nbformat": 4,
  "nbformat_minor": 0,
  "metadata": {
    "colab": {
      "name": "machinelearning_TD2_name.ipynb",
      "version": "0.3.2",
      "provenance": [],
      "collapsed_sections": []
    },
    "kernelspec": {
      "display_name": "Python 3",
      "language": "python",
      "name": "python3"
    }
  },
  "cells": [
    {
      "metadata": {
        "id": "A5cEdwPGtZCL",
        "colab_type": "text"
      },
      "cell_type": "markdown",
      "source": [
        "# Load the MNIST dataset\n"
      ]
    },
    {
      "metadata": {
        "id": "R8-Vh8cYw1DV",
        "colab_type": "code",
        "colab": {}
      },
      "cell_type": "code",
      "source": [
        "from sklearn.datasets import fetch_openml\n",
        "X, y = fetch_openml('mnist_784', version=1, return_X_y=True)\n",
        "X = X.reshape(-1, 28, 28)\n",
        "y = y.astype(\"int\")"
      ],
      "execution_count": 0,
      "outputs": []
    },
    {
      "metadata": {
        "id": "NQC7JMAEtbQG",
        "colab_type": "text"
      },
      "cell_type": "markdown",
      "source": [
        "# select only the first 15000 samples from X and Y"
      ]
    },
    {
      "metadata": {
        "id": "kQLfh_ditMrc",
        "colab_type": "code",
        "colab": {}
      },
      "cell_type": "code",
      "source": [
        "# CODE HERE"
      ],
      "execution_count": 0,
      "outputs": []
    },
    {
      "metadata": {
        "id": "u4P_kUUatmki",
        "colab_type": "text"
      },
      "cell_type": "markdown",
      "source": [
        "# look at the values of y. How many different values is there? How many for every class?"
      ]
    },
    {
      "metadata": {
        "id": "M2M5ZvHcw1Df",
        "colab_type": "code",
        "colab": {}
      },
      "cell_type": "code",
      "source": [
        "import numpy as np\n",
        "#https://docs.scipy.org/doc/numpy-1.15.0/reference/generated/numpy.unique.html\n",
        "# CODE HERE"
      ],
      "execution_count": 0,
      "outputs": []
    },
    {
      "metadata": {
        "id": "ZZfHTaHOtovZ",
        "colab_type": "text"
      },
      "cell_type": "markdown",
      "source": [
        "# look at the dimension of the images (X) What does each dimension correspond to ?"
      ]
    },
    {
      "metadata": {
        "id": "gHCtEP7Qw1Ds",
        "colab_type": "code",
        "colab": {}
      },
      "cell_type": "code",
      "source": [
        "# CODE HERE"
      ],
      "execution_count": 0,
      "outputs": []
    },
    {
      "metadata": {
        "id": "6Z8F6sRRtsLO",
        "colab_type": "text"
      },
      "cell_type": "markdown",
      "source": [
        "# visualize 5 random samples"
      ]
    },
    {
      "metadata": {
        "scrolled": true,
        "id": "8FTIBAyQw1D5",
        "colab_type": "code",
        "colab": {}
      },
      "cell_type": "code",
      "source": [
        "import matplotlib.pyplot as plt\n",
        "# you can use np.random.randint to generate random indexs and plt.imshow() to display the corresponding images from X\n",
        "\n",
        "# CODE HERE"
      ],
      "execution_count": 0,
      "outputs": []
    },
    {
      "metadata": {
        "id": "7_sh0IT-t1He",
        "colab_type": "text"
      },
      "cell_type": "markdown",
      "source": [
        "# We are going to keep only the 3s and the 9s in order to do a binary classification\n"
      ]
    },
    {
      "metadata": {
        "id": "nvRNfEVMw1EE",
        "colab_type": "code",
        "colab": {}
      },
      "cell_type": "code",
      "source": [
        "# Use y to select to get the relevant indexs and select the corresponding images from X\n",
        "# you can use np.where((condition1)) | (condition2))[0] to select the correspond indices"
      ],
      "execution_count": 0,
      "outputs": []
    },
    {
      "metadata": {
        "id": "u7N1KLtow1EZ",
        "colab_type": "code",
        "colab": {}
      },
      "cell_type": "code",
      "source": [
        "# CODE HERE"
      ],
      "execution_count": 0,
      "outputs": []
    },
    {
      "metadata": {
        "id": "R78TQLi9t4oz",
        "colab_type": "text"
      },
      "cell_type": "markdown",
      "source": [
        "# how many samples do we have now ?"
      ]
    },
    {
      "metadata": {
        "id": "lawOnylLw1Ej",
        "colab_type": "code",
        "colab": {}
      },
      "cell_type": "code",
      "source": [
        "# CODE HERE"
      ],
      "execution_count": 0,
      "outputs": []
    },
    {
      "metadata": {
        "id": "efv-IR04t7Im",
        "colab_type": "text"
      },
      "cell_type": "markdown",
      "source": [
        "# visualize 5 random samples from this new data set"
      ]
    },
    {
      "metadata": {
        "scrolled": true,
        "id": "kL4cppxOw1Ex",
        "colab_type": "code",
        "colab": {}
      },
      "cell_type": "code",
      "source": [
        "# CODE HERE"
      ],
      "execution_count": 0,
      "outputs": []
    },
    {
      "metadata": {
        "id": "Gz19ki3wuBDu",
        "colab_type": "text"
      },
      "cell_type": "markdown",
      "source": [
        "### Since we are going to use logistic regression, we must feed vectors to our model, not images. We can do this by reshaping these (28,28) images inton vectors of 784 dimensions.\n",
        "# Reshape X so that it has size : (number of samples,  784)"
      ]
    },
    {
      "metadata": {
        "id": "3PcTrTfxw1E9",
        "colab_type": "code",
        "colab": {}
      },
      "cell_type": "code",
      "source": [
        "# CODE HERE"
      ],
      "execution_count": 0,
      "outputs": []
    },
    {
      "metadata": {
        "id": "tL0_z_Q7uQ7V",
        "colab_type": "text"
      },
      "cell_type": "markdown",
      "source": [
        "# split data into training and test set using train_test_split, keep 20% of the data for the test set"
      ]
    },
    {
      "metadata": {
        "id": "PgMIjdNjw1FH",
        "colab_type": "code",
        "colab": {}
      },
      "cell_type": "code",
      "source": [
        "from sklearn.model_selection import train_test_split\n",
        "\n",
        "# CODE HERE"
      ],
      "execution_count": 0,
      "outputs": []
    },
    {
      "metadata": {
        "id": "lE-k9cvUuTYB",
        "colab_type": "text"
      },
      "cell_type": "markdown",
      "source": [
        "# standardize the data using Standard scaler"
      ]
    },
    {
      "metadata": {
        "id": "B2dfJ9lvw1FQ",
        "colab_type": "code",
        "colab": {}
      },
      "cell_type": "code",
      "source": [
        "# We want or data to have 0 mean and unit variance\n",
        "# /!\\ only fit the scaler on the train data\n",
        "from sklearn.preprocessing import StandardScaler\n",
        "# CODE HERE"
      ],
      "execution_count": 0,
      "outputs": []
    },
    {
      "metadata": {
        "id": "Uzwwfa2GuX6h",
        "colab_type": "text"
      },
      "cell_type": "markdown",
      "source": [
        "# fit a logistic regression"
      ]
    },
    {
      "metadata": {
        "id": "aSExvG38w1Fh",
        "colab_type": "code",
        "colab": {}
      },
      "cell_type": "code",
      "source": [
        "# set penalty to L2, C to 1, and tol to 0.1\n",
        "# Here, C = 1/lambda. The smaller the C, the more regularized is the model\n",
        "from sklearn.linear_model import LogisticRegression\n",
        "# CODE HERE\n"
      ],
      "execution_count": 0,
      "outputs": []
    },
    {
      "metadata": {
        "id": "TimlmfERuaUM",
        "colab_type": "text"
      },
      "cell_type": "markdown",
      "source": [
        "#use clf.score to compute the accuracy of the model on the test data"
      ]
    },
    {
      "metadata": {
        "id": "50te5cUqw1F9",
        "colab_type": "code",
        "colab": {}
      },
      "cell_type": "code",
      "source": [
        "# CODE HERE"
      ],
      "execution_count": 0,
      "outputs": []
    },
    {
      "metadata": {
        "id": "szEI9Xn8ub8y",
        "colab_type": "text"
      },
      "cell_type": "markdown",
      "source": [
        "# implement your own accuracy function and compare the results on the test data"
      ]
    },
    {
      "metadata": {
        "id": "rikGPG-lw1GQ",
        "colab_type": "code",
        "colab": {}
      },
      "cell_type": "code",
      "source": [
        "# CODE HERE"
      ],
      "execution_count": 0,
      "outputs": []
    },
    {
      "metadata": {
        "id": "pnR1jFAIw1Gl",
        "colab_type": "text"
      },
      "cell_type": "markdown",
      "source": [
        "# Do the same thing, but keep all the classes"
      ]
    },
    {
      "metadata": {
        "id": "4XHMehX3w1Gp",
        "colab_type": "code",
        "colab": {}
      },
      "cell_type": "code",
      "source": [
        "# you can reimport the data, and do all the same processing with all the samples"
      ],
      "execution_count": 0,
      "outputs": []
    },
    {
      "metadata": {
        "id": "s7Z0iy4Ew1Gy",
        "colab_type": "code",
        "colab": {}
      },
      "cell_type": "code",
      "source": [
        "# Load the MNIST dataset"
      ],
      "execution_count": 0,
      "outputs": []
    },
    {
      "metadata": {
        "id": "itCGRMOaw1G7",
        "colab_type": "code",
        "colab": {}
      },
      "cell_type": "code",
      "source": [
        "# Since we are going to use logistic regression, we must feed vectors to our model, not images\n",
        "# We can do this by reshaping these (28,28) images inton vectors of 784 dimensions"
      ],
      "execution_count": 0,
      "outputs": []
    },
    {
      "metadata": {
        "id": "PhKzGDGow1HD",
        "colab_type": "code",
        "colab": {}
      },
      "cell_type": "code",
      "source": [
        "# split data into training and test set using train_test_split"
      ],
      "execution_count": 0,
      "outputs": []
    },
    {
      "metadata": {
        "id": "_kSy1jM9w1HN",
        "colab_type": "code",
        "colab": {}
      },
      "cell_type": "code",
      "source": [
        "# We want or data to have 0 mean and unit variance\n",
        "# standardize the data using Standard scaler \n",
        "# /!\\ only fit the scaler on the train data"
      ],
      "execution_count": 0,
      "outputs": []
    },
    {
      "metadata": {
        "id": "MmeX5Z8Mw1Hd",
        "colab_type": "code",
        "colab": {}
      },
      "cell_type": "code",
      "source": [
        "# fit a logistic regression\n",
        "# set the parameter \"multi_class\" to \"ovr\" (one versus rest), and \"penalty\" to 1\n",
        "# set penalty to L2, C to 1, and tol to 0.1\n",
        "\n",
        "# /!\\To be compatible with the next question, you have to name your classifier as follow : \"clf\""
      ],
      "execution_count": 0,
      "outputs": []
    },
    {
      "metadata": {
        "id": "-UMi4R-8w1Hz",
        "colab_type": "code",
        "colab": {}
      },
      "cell_type": "code",
      "source": [
        "# use clf score to compute the accuracy of the model on the test data"
      ],
      "execution_count": 0,
      "outputs": []
    },
    {
      "metadata": {
        "id": "wcffokvSw1IE",
        "colab_type": "code",
        "colab": {}
      },
      "cell_type": "code",
      "source": [
        "# compare with your accuracy func func on the test data"
      ],
      "execution_count": 0,
      "outputs": []
    },
    {
      "metadata": {
        "id": "O1GAF5F_6M__",
        "colab_type": "text"
      },
      "cell_type": "markdown",
      "source": [
        "# look at the coefficients for the different classes"
      ]
    },
    {
      "metadata": {
        "id": "Chakz96gw1IT",
        "colab_type": "code",
        "outputId": "802115f1-ae08-47a2-9f69-a91b1d50d977",
        "colab": {
          "base_uri": "https://localhost:8080/",
          "height": 365
        }
      },
      "cell_type": "code",
      "source": [
        "scale = np.abs(clf.coef_).max()\n",
        "plt.figure(figsize=(10, 5))\n",
        "for i in range(len(clf.coef_)):\n",
        "    plot = plt.subplot(2, 5, i + 1)\n",
        "    plot.imshow(clf.coef_[i].reshape(28, 28), interpolation = \"nearest\", cmap=plt.cm.RdBu, vmin=-scale, vmax = scale)\n",
        "    plot.set_xlabel('Class %i' % i)\n",
        "\n",
        "plt.tight_layout()\n",
        "plt.suptitle('Classification vector for...')\n",
        "plt.show()"
      ],
      "execution_count": 0,
      "outputs": [
        {
          "output_type": "display_data",
          "data": {
            "image/png": "[encoded data removed]",
            "text/plain": [
              "<matplotlib.figure.Figure at 0x7fde9f98a668>"
            ]
          },
          "metadata": {
            "tags": []
          }
        }
      ]
    },
    {
      "metadata": {
        "id": "70Xrnt1Y1xND",
        "colab_type": "text"
      },
      "cell_type": "markdown",
      "source": [
        "#Train a logistic regression using L1 penalty and C = 50 / number of training samples"
      ]
    },
    {
      "metadata": {
        "id": "ELf2FkWKw1It",
        "colab_type": "code",
        "colab": {}
      },
      "cell_type": "code",
      "source": [
        "# set penalty to L1, C to 50 / number of training samples, multiclass to \"ovr\", solver to \"saga\", and tol to 0.1\n",
        "# CODE HERE"
      ],
      "execution_count": 0,
      "outputs": []
    },
    {
      "metadata": {
        "id": "M_Toamuc2BZ0",
        "colab_type": "text"
      },
      "cell_type": "markdown",
      "source": [
        "# look at the coefficients for the different classes"
      ]
    },
    {
      "metadata": {
        "id": "0bCc2FMlw1I2",
        "colab_type": "code",
        "outputId": "edad0438-2a82-486c-c6a9-b82127388282",
        "colab": {
          "base_uri": "https://localhost:8080/",
          "height": 365
        }
      },
      "cell_type": "code",
      "source": [
        "scale = np.abs(clf.coef_).max()\n",
        "plt.figure(figsize=(10, 5))\n",
        "for i in range(len(clf.coef_)):\n",
        "    plot = plt.subplot(2, 5, i + 1)\n",
        "    plot.imshow(clf.coef_[i].reshape(28, 28), interpolation = \"nearest\", cmap=plt.cm.RdBu, vmin=-scale, vmax = scale)\n",
        "    plot.set_xlabel('Class %i' % i)\n",
        "\n",
        "plt.tight_layout()\n",
        "plt.suptitle('Classification vector for...')\n",
        "plt.show()"
      ],
      "execution_count": 0,
      "outputs": [
        {
          "output_type": "display_data",
          "data": {
            "image/png": "[encoded data removed]",
            "text/plain": [
              "<matplotlib.figure.Figure at 0x7fde9f97b668>"
            ]
          },
          "metadata": {
            "tags": []
          }
        }
      ]
    },
    {
      "metadata": {
        "id": "1kRT98ek6iiQ",
        "colab_type": "text"
      },
      "cell_type": "markdown",
      "source": [
        "# What is the accuracy of this model?\n",
        "# What do you think of the coefficients of the Lasso (L1) logistic regression compared to the Ridge (L2) logistic regression?\n"
      ]
    },
    {
      "metadata": {
        "id": "lNz9vxJWw1I_",
        "colab_type": "code",
        "colab": {}
      },
      "cell_type": "code",
      "source": [
        "# What is the accuracy ?\n",
        "# What do you think of the coefficients ?\n"
      ],
      "execution_count": 0,
      "outputs": []
    },
    {
      "metadata": {
        "id": "4HdQ9_2Sg2y1",
        "colab_type": "text"
      },
      "cell_type": "markdown",
      "source": [
        "# Plot the confusion matrix of the model for the test data"
      ]
    },
    {
      "metadata": {
        "id": "b3O6Ssc15rsL",
        "colab_type": "code",
        "colab": {}
      },
      "cell_type": "code",
      "source": [
        "# https://scikit-learn.org/stable/modules/generated/sklearn.metrics.confusion_matrix.html\n",
        "# CODE HERE"
      ],
      "execution_count": 0,
      "outputs": []
    },
    {
      "metadata": {
        "id": "2t9d9aRF7DeM",
        "colab_type": "text"
      },
      "cell_type": "markdown",
      "source": [
        "# What are the 3 most frequent mistakes?\n",
        "# Do you think it makes sense?"
      ]
    },
    {
      "metadata": {
        "id": "QLVvb2dK7KYD",
        "colab_type": "code",
        "colab": {}
      },
      "cell_type": "code",
      "source": [
        "# CODE HERE"
      ],
      "execution_count": 0,
      "outputs": []
    },
    {
      "metadata": {
        "id": "mG8g46e0w1JF",
        "colab_type": "text"
      },
      "cell_type": "markdown",
      "source": [
        "# Now we want to improve the accuracy by using l2 and tuning the regularisation parameter C. Try lambda_ in [0.0001, 0.001, 0.01, 0.1, 1, 10] and compare the accuracies on train and test\n",
        "# /!\\ remember that here C = 1 / lambda_\n",
        "\n",
        "# What is the best accuracy you can achieve on the test set ?"
      ]
    },
    {
      "metadata": {
        "id": "w5KIh3E2w1JJ",
        "colab_type": "code",
        "colab": {}
      },
      "cell_type": "code",
      "source": [
        "# CODE HERE"
      ],
      "execution_count": 0,
      "outputs": []
    },
    {
      "metadata": {
        "id": "myfxcCQNw1Jh",
        "colab_type": "code",
        "colab": {}
      },
      "cell_type": "code",
      "source": [
        ""
      ],
      "execution_count": 0,
      "outputs": []
    }
  ]
}